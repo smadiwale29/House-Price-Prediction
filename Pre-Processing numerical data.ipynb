{
 "cells": [
  {
   "cell_type": "markdown",
   "id": "4eaecf6e-ab5c-4987-b2eb-780ac37c133e",
   "metadata": {},
   "source": [
    "# Pre-Processing numerical data for machine learning tasks\n",
    "## House Price Prediction\n",
    "\n",
    "**Pre-processing of the data which involve the details of Houses and its Area along with other considerable amenities that to buy house. This molde would be capable to provide the right value of any house with the same area.**"
   ]
  },
  {
   "cell_type": "markdown",
   "id": "ae78f135-4f1a-458c-a899-cf4250d9c041",
   "metadata": {},
   "source": [
    "## Import Libraries\n",
    "\n",
    "New Enviorment was created into Anaconda and required libraries were installed."
   ]
  },
  {
   "cell_type": "code",
   "execution_count": 1,
   "id": "5bcae106-bb19-484d-ad01-e1ef36da3ef4",
   "metadata": {},
   "outputs": [],
   "source": [
    "import pandas as pd\n",
    "import matplotlib.pyplot as plt"
   ]
  },
  {
   "cell_type": "markdown",
   "id": "4addbc56-1416-4bdd-a921-8e35e54cb7da",
   "metadata": {},
   "source": [
    "## Data acquired from Kaggle.com\n",
    "**The data is related to house prices of 1460 houses. The regression goal is to predict the house price of houses from test data.**\n",
    "\n"
   ]
  },
  {
   "cell_type": "code",
   "execution_count": 22,
   "id": "b113bb7b-493a-4d88-a1e0-1e38d4c137e5",
   "metadata": {},
   "outputs": [],
   "source": [
    "df_train = pd.read_csv('../ex/House price prediction/train.csv')"
   ]
  },
  {
   "cell_type": "markdown",
   "id": "a3459eac-20c6-4e15-8fe5-85fb3652611f",
   "metadata": {},
   "source": [
    "## information check\n",
    "\n",
    "**No. of columns** = 80\n",
    "\n",
    "**No. of Rows**  = 1460\n",
    "\n",
    "**Data types** = float64(3), int64(35), object(43)\n",
    "\n",
    "**Missing data** = True\n",
    "\n",
    "**Dependent variable** = 'SalePrice'"
   ]
  },
  {
   "cell_type": "code",
   "execution_count": 21,
   "id": "529eb3c5-44de-4a21-a2c1-b77d3dbe7e41",
   "metadata": {},
   "outputs": [
    {
     "name": "stdout",
     "output_type": "stream",
     "text": [
      "<class 'pandas.core.frame.DataFrame'>\n",
      "RangeIndex: 1432 entries, 0 to 1431\n",
      "Columns: 1296 entries, Id to SaleCondition_Partial\n",
      "dtypes: float64(1247), int64(1), object(48)\n",
      "memory usage: 14.2+ MB\n"
     ]
    }
   ],
   "source": [
    "df_train.info()"
   ]
  },
  {
   "cell_type": "markdown",
   "id": "70953fed-76a4-45f4-835b-4c333837b954",
   "metadata": {},
   "source": [
    "**Data consists of NA value with two meanings.**\n",
    "\n",
    "**NA** - Not Applicable ( Catagorical type)\n",
    "\n",
    "**NA** - Not Available ( Missing Value)\n",
    "\n",
    "A dictionary created for column names and type of NA in the data."
   ]
  },
  {
   "cell_type": "code",
   "execution_count": 20,
   "id": "7810b208-25ef-4ca4-9458-62b5dbd86e21",
   "metadata": {},
   "outputs": [
    {
     "data": {
      "text/plain": [
       "79"
      ]
     },
     "execution_count": 20,
     "metadata": {},
     "output_type": "execute_result"
    }
   ],
   "source": [
    "d1 = {'MSSubClass':['','NA'],'MSZoning':['','NA'],'LotFrontage':['','NA'],'LotArea':['','NA'],'Street':['','NA'],'Alley':[''],'LotShape':['','NA'],'LandContour':['','NA'],'Utilities':['','NA'],'LotConfig':['','NA'],'LandSlope':['','NA'],'Neighborhood':['','NA'],'Condition1':['','NA'],'Condition2':['','NA'],'BldgType':['','NA'],'HouseStyle':['','NA'],'OverallQual':['','NA'],'OverallCond':['','NA'],'YearBuilt':['','NA'],'YearRemodAdd':['','NA'],'RoofStyle':['','NA'],'RoofMatl':['','NA'],'Exterior1st':['','NA'],'Exterior2nd':['','NA'],'MasVnrType':['','NA'],'MasVnrArea':['','NA'],'ExterQual':['','NA'],'ExterCond':['','NA'],'Foundation':['','NA'],'BsmtQual':[''],'BsmtCond':[''],'BsmtExposure':[''],'BsmtFinType1':[''],'BsmtFinSF1':['','NA'],'BsmtFinType2':[''],'BsmtFinSF2':['','NA'],'BsmtUnfSF':['','NA'],'TotalBsmtSF':['','NA'],'Heating':['','NA'],'HeatingQC':['','NA'],'CentralAir':['','NA'],'Electrical':['','NA'],'1stFlrSF':['','NA'],'2ndFlrSF':['','NA'],'LowQualFinSF':['','NA'],'GrLivArea':['','NA'],'BsmtFullBath':['','NA'],'BsmtHalfBath':['','NA'],'FullBath':['','NA'],'HalfBath':['','NA'],'KitchenQual':['','NA'],'BedroomAbvGr':['','NA'],'KitchenAbvGr':['','NA'],'TotRmsAbvGrd':['','NA'],'Functional':['','NA'],'Fireplaces':['','NA'],'FireplaceQu':[''],'GarageYrBlt':['','NA'],'GarageFinish':[''],'GarageCars':['','NA'],'GarageArea':['','NA'],'GarageQual':[''],'GarageCond':[''],'GarageType':[''],'PavedDrive':['','NA'],'WoodDeckSF':['','NA'],'OpenPorchSF':['','NA'],'EnclosedPorch':['','NA'],'3SsnPorch':['','NA'],'ScreenPorch':['','NA'],'PoolArea':['','NA'],'PoolQC':[''],'Fence':[''],'MiscFeature':[''],'MiscVal':['','NA'],'MoSold':['','NA'],'YrSold':['','NA'],'SaleType':['','NA'],'SaleCondition':['','NA']}\n",
    "len(d1)"
   ]
  },
  {
   "cell_type": "markdown",
   "id": "f2ce25ed-98a9-4f39-be02-bb6807f135f6",
   "metadata": {},
   "source": [
    "## Outlier handling Visualization."
   ]
  },
  {
   "cell_type": "code",
   "execution_count": 19,
   "id": "8abc2fdb-9724-4e22-93cb-ea655d9befa9",
   "metadata": {},
   "outputs": [
    {
     "data": {
      "text/plain": [
       "{'whiskers': [<matplotlib.lines.Line2D at 0x20fcb1a08d0>,\n",
       "  <matplotlib.lines.Line2D at 0x20fcb0bde10>],\n",
       " 'caps': [<matplotlib.lines.Line2D at 0x20fcb037710>,\n",
       "  <matplotlib.lines.Line2D at 0x20fcc44a150>],\n",
       " 'boxes': [<matplotlib.lines.Line2D at 0x20fc8fe2d50>],\n",
       " 'medians': [<matplotlib.lines.Line2D at 0x20fc935d150>],\n",
       " 'fliers': [<matplotlib.lines.Line2D at 0x20fcb051050>],\n",
       " 'means': []}"
      ]
     },
     "execution_count": 19,
     "metadata": {},
     "output_type": "execute_result"
    },
    {
     "data": {
      "image/png": "[encoded data removed]",
      "text/plain": [
       "<Figure size 640x480 with 1 Axes>"
      ]
     },
     "metadata": {},
     "output_type": "display_data"
    }
   ],
   "source": [
    "plt.boxplot(df_train['SalePrice'])"
   ]
  },
  {
   "cell_type": "code",
   "execution_count": 6,
   "id": "932f06ba-9c74-469d-8e2a-db2e691f545d",
   "metadata": {},
   "outputs": [
    {
     "data": {
      "text/plain": [
       "count      1460.000000\n",
       "mean     180921.195890\n",
       "std       79442.502883\n",
       "min       34900.000000\n",
       "25%      129975.000000\n",
       "50%      163000.000000\n",
       "75%      214000.000000\n",
       "max      755000.000000\n",
       "Name: SalePrice, dtype: float64"
      ]
     },
     "execution_count": 6,
     "metadata": {},
     "output_type": "execute_result"
    }
   ],
   "source": [
    "df_train['SalePrice'].describe()"
   ]
  },
  {
   "cell_type": "markdown",
   "id": "52c28031-a2c8-48e5-bafa-9c439a205818",
   "metadata": {},
   "source": [
    "## Training data without outliers"
   ]
  },
  {
   "cell_type": "code",
   "execution_count": 7,
   "id": "37d625a0-dec9-42ff-8cd9-e8d60fd6472e",
   "metadata": {},
   "outputs": [],
   "source": [
    "df_train  = df_train[df_train[\"SalePrice\"] <= 400000].reset_index(drop=True)"
   ]
  },
  {
   "cell_type": "markdown",
   "id": "fa874280-8ea8-469b-ba3b-00af253fd1e9",
   "metadata": {},
   "source": [
    "## Catagorical and Numerical columns list as pre-processing pre-requsite"
   ]
  },
  {
   "cell_type": "code",
   "execution_count": 8,
   "id": "cba6aa8e-8f25-476a-91f0-a356198b2ae4",
   "metadata": {},
   "outputs": [],
   "source": [
    "column_cat = ['MSSubClass','MSZoning','Street','Alley','LotShape','LandContour','Utilities','LotConfig','LandSlope','Neighborhood','Condition1','Condition2','BldgType','HouseStyle','OverallQual','OverallCond','RoofStyle','RoofMatl','Exterior1st','Exterior2nd','MasVnrType','MasVnrArea','ExterQual','ExterCond','Foundation','BsmtQual','BsmtCond','BsmtExposure','BsmtFinType1','BsmtFinSF1','BsmtFinType2','Heating','HeatingQC','CentralAir','Electrical','KitchenQual','Functional','FireplaceQu','GarageType','GarageFinish','GarageQual','GarageCond','PavedDrive','PoolQC','Fence','MiscFeature','SaleType','SaleCondition']\n",
    "column_num = ['Id','LotFrontage','LotArea','YearBuilt','YearRemodAdd','BsmtFinSF2','BsmtUnfSF','TotalBsmtSF','1stFlrSF','2ndFlrSF','LowQualFinSF','GrLivArea','BsmtFullBath','BsmtHalfBath','FullBath','HalfBath','BedroomAbvGr','KitchenAbvGr','TotRmsAbvGrd','Fireplaces','GarageYrBlt','GarageCars','GarageArea','WoodDeckSF','OpenPorchSF','EnclosedPorch','3SsnPorch','ScreenPorch','PoolArea','MiscVal','MoSold','YrSold']"
   ]
  },
  {
   "cell_type": "markdown",
   "id": "0f96f93c-7b90-49fc-89ce-7eccbadd6331",
   "metadata": {},
   "source": [
    "## Imputer [Feature Engineering] Missing value handling"
   ]
  },
  {
   "cell_type": "code",
   "execution_count": 9,
   "id": "7fa7a5bb-2143-49dd-85c7-96439825eecd",
   "metadata": {},
   "outputs": [],
   "source": [
    "from sklearn.impute import SimpleImputer\n",
    "\n",
    "imputer_num = SimpleImputer(strategy='median')\n",
    "imputer_num.fit(df_train[column_num])\n",
    "df_train[column_num] = imputer_num.transform(df_train[column_num])\n",
    "\n",
    "imputer_cat = SimpleImputer(strategy=\"most_frequent\")\n",
    "imputer_cat.fit(df_train[column_cat])\n",
    "df_train[column_cat] = imputer_cat.transform(df_train[column_cat])\n"
   ]
  },
  {
   "cell_type": "markdown",
   "id": "e5d48252-6e79-40a1-85ba-ae7af53e76ab",
   "metadata": {},
   "source": [
    "## Encoding [Feature Engineering]"
   ]
  },
  {
   "cell_type": "code",
   "execution_count": 11,
   "id": "e94349d4-4aec-4597-8cac-4cf05c59dced",
   "metadata": {},
   "outputs": [],
   "source": [
    "from sklearn.preprocessing import OneHotEncoder\n",
    "encoder = OneHotEncoder(sparse_output=False,handle_unknown='ignore')\n",
    "encoder.fit(df_train[column_cat])\n",
    "columns_enc = list(encoder.get_feature_names_out())\n",
    "df_train[columns_enc] = encoder.transform(df_train[column_cat])\n"
   ]
  },
  {
   "cell_type": "markdown",
   "id": "0757599e-b53c-4e0c-ad10-12f16048d5b6",
   "metadata": {},
   "source": [
    "## Scaling [Feature Engineering]"
   ]
  },
  {
   "cell_type": "code",
   "execution_count": 23,
   "id": "aee0f614-f4ce-4e8b-87c7-c7aa3ecc7ca6",
   "metadata": {},
   "outputs": [],
   "source": [
    "from sklearn.preprocessing import StandardScaler\n",
    "scaler = StandardScaler()\n",
    "scaler.fit(df_train[column_num])\n",
    "df_train[column_num] = scaler.transform(df_train[column_num])"
   ]
  },
  {
   "cell_type": "code",
   "execution_count": 13,
   "id": "80682795-51a4-4df3-a2c7-308d7adb5db1",
   "metadata": {},
   "outputs": [],
   "source": [
    "final_columns = (column_num + columns_enc)"
   ]
  },
  {
   "cell_type": "markdown",
   "id": "7253fb35-11c0-43a8-8f27-39088aa34f41",
   "metadata": {},
   "source": [
    "## Feature reduction using Principle Component Analysis [Feature Engineering] \n",
    "\n",
    "**Maintaining 98% of training data.**"
   ]
  },
  {
   "cell_type": "code",
   "execution_count": 14,
   "id": "e2d5f8dd-120c-479e-b86c-2f607c40f4f8",
   "metadata": {},
   "outputs": [
    {
     "data": {
      "text/plain": [
       "202"
      ]
     },
     "execution_count": 14,
     "metadata": {},
     "output_type": "execute_result"
    }
   ],
   "source": [
    "from sklearn.decomposition import PCA\n",
    "pca = PCA(n_components = 0.98)\n",
    "pca.fit(df_train[final_columns])\n",
    "pca.n_components_"
   ]
  },
  {
   "cell_type": "code",
   "execution_count": 15,
   "id": "7bccfbdb-1395-4321-9c35-04c77a94147f",
   "metadata": {},
   "outputs": [],
   "source": [
    "X_train = pca.transform(df_train[final_columns])\n",
    "y_train = df_train['SalePrice']"
   ]
  },
  {
   "cell_type": "markdown",
   "id": "ce0fc876-854d-496b-93d6-998af1000ef2",
   "metadata": {},
   "source": [
    "## Test Data import and Handling"
   ]
  },
  {
   "cell_type": "code",
   "execution_count": 16,
   "id": "26484f62-2c4c-4230-a37e-3243db57a297",
   "metadata": {},
   "outputs": [],
   "source": [
    "df_test = pd.read_csv('../ex/House price prediction/test.csv')"
   ]
  },
  {
   "cell_type": "markdown",
   "id": "00384f70-625c-47b6-90d4-75b3850d93b0",
   "metadata": {},
   "source": [
    "## Test Data Pre-processing"
   ]
  },
  {
   "cell_type": "code",
   "execution_count": 24,
   "id": "8587dac0-4108-4c7b-904b-bd4538349b2e",
   "metadata": {},
   "outputs": [],
   "source": [
    "df_test[column_num] = imputer_num.transform(df_test[column_num])\n",
    "df_test[column_cat] = imputer_cat.transform(df_test[column_cat])\n",
    "df_test[columns_enc] = encoder.transform(df_test[column_cat])\n",
    "df_test[column_num] = scaler.transform(df_test[column_num])\n",
    "X_test = pca.transform(df_test[final_columns])"
   ]
  },
  {
   "cell_type": "code",
   "execution_count": null,
   "id": "39650e40-6f16-4f28-8484-e0b527298e19",
   "metadata": {},
   "outputs": [],
   "source": []
  }
 ],
 "metadata": {
  "kernelspec": {
   "display_name": "Python [conda env:tf_01]",
   "language": "python",
   "name": "conda-env-tf_01-py"
  },
  "language_info": {
   "codemirror_mode": {
    "name": "ipython",
    "version": 3
   },
   "file_extension": ".py",
   "mimetype": "text/x-python",
   "name": "python",
   "nbconvert_exporter": "python",
   "pygments_lexer": "ipython3",
   "version": "3.11.7"
  },
  "widgets": {
   "application/vnd.jupyter.widget-state+json": {
    "state": {},
    "version_major": 2,
    "version_minor": 0
   }
  }
 },
 "nbformat": 4,
 "nbformat_minor": 5
}
